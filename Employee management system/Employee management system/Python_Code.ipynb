{
 "cells": [
  {
   "cell_type": "code",
   "execution_count": 1,
   "id": "944995ea",
   "metadata": {},
   "outputs": [
    {
     "name": "stdout",
     "output_type": "stream",
     "text": [
      "Generated 2000 tuples with distinct dept_num and saved to department_data.csv\n"
     ]
    }
   ],
   "source": [
    "import csv\n",
    "import random\n",
    "\n",
    "num_tuples = 2000\n",
    "field_names = ['dept_num', 'dept_name', 'numemp', 'manager_id']\n",
    "file_path = 'department_data.csv'\n",
    "\n",
    "used_dept_nums = set()\n",
    "\n",
    "with open(file_path, 'w', newline='') as csvfile:\n",
    "    writer = csv.DictWriter(csvfile, fieldnames=field_names)\n",
    "    writer.writeheader()\n",
    "\n",
    "    for _ in range(num_tuples):\n",
    "        while True:\n",
    "            dept_num = random.randint(1000, 9999)\n",
    "            dept_name = random.choice([\"Data science\", \"Machine learning\", \"Databases\", \"Software engineering\"])\n",
    "            numemp = random.randint(10, 100)\n",
    "            manager_id = random.randint(111111111, 888888888)\n",
    "            if dept_num not in used_dept_nums:\n",
    "                used_dept_nums.add(dept_num)\n",
    "                writer.writerow({'dept_num': dept_num, 'dept_name': dept_name, 'numemp': numemp, 'manager_id': manager_id})\n",
    "                break\n",
    "\n",
    "print(f\"Generated {num_tuples} tuples with distinct dept_num and saved to {file_path}\")\n"
   ]
  },
  {
   "cell_type": "code",
   "execution_count": null,
   "id": "c53f1fea",
   "metadata": {},
   "outputs": [],
   "source": []
  }
 ],
 "metadata": {
  "kernelspec": {
   "display_name": "Python 3 (ipykernel)",
   "language": "python",
   "name": "python3"
  },
  "language_info": {
   "codemirror_mode": {
    "name": "ipython",
    "version": 3
   },
   "file_extension": ".py",
   "mimetype": "text/x-python",
   "name": "python",
   "nbconvert_exporter": "python",
   "pygments_lexer": "ipython3",
   "version": "3.11.1"
  }
 },
 "nbformat": 4,
 "nbformat_minor": 5
}
